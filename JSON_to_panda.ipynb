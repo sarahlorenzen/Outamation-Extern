{
  "nbformat": 4,
  "nbformat_minor": 0,
  "metadata": {
    "colab": {
      "provenance": [],
      "authorship_tag": "ABX9TyOaQAmxj6mQzt7ND5GsLHng",
      "include_colab_link": true
    },
    "kernelspec": {
      "name": "python3",
      "display_name": "Python 3"
    },
    "language_info": {
      "name": "python"
    }
  },
  "cells": [
    {
      "cell_type": "markdown",
      "metadata": {
        "id": "view-in-github",
        "colab_type": "text"
      },
      "source": [
        "<a href=\"https://colab.research.google.com/github/sarahlorenzen/Outamation-Extern/blob/main/JSON_to_panda.ipynb\" target=\"_parent\"><img src=\"https://colab.research.google.com/assets/colab-badge.svg\" alt=\"Open In Colab\"/></a>"
      ]
    },
    {
      "cell_type": "code",
      "execution_count": null,
      "metadata": {
        "colab": {
          "base_uri": "https://localhost:8080/"
        },
        "id": "s2RjNOg-zfl0",
        "outputId": "1baa4c62-ccd7-4f2b-adf1-d2fe962f816f"
      },
      "outputs": [
        {
          "output_type": "stream",
          "name": "stdout",
          "text": [
            "[{'customer_id': 101, 'name': 'Alice Johnson', 'email': 'alice@example.com', 'orders': [{'order_id': 5001, 'date': '2024-02-01', 'total': 120.5, 'items': [{'product': 'Laptop', 'price': 1000.0, 'quantity': 1}, {'product': 'Mouse', 'price': 20.5, 'quantity': 1}], 'payment': {'method': 'Credit Card', 'status': 'Completed'}}]}, {'customer_id': 102, 'name': 'Bob Williams', 'email': 'bob@example.com', 'orders': [{'order_id': 5002, 'date': '2024-02-03', 'total': 250.0, 'items': [{'product': 'Smartphone', 'price': 700.0, 'quantity': 1}, {'product': 'Charger', 'price': 50.0, 'quantity': 2}], 'payment': {'method': 'PayPal', 'status': 'Pending'}}, {'order_id': 5003, 'date': '2024-02-07', 'total': 75.0, 'items': [{'product': 'Headphones', 'price': 75.0, 'quantity': 1}], 'payment': {'method': 'Credit Card', 'status': 'Completed'}}]}]\n"
          ]
        }
      ],
      "source": [
        "import json\n",
        "\n",
        "# Open and read the JSON file\n",
        "with open('sample.json', 'r') as file:\n",
        "    data = json.load(file)\n",
        "\n",
        "# Print the loaded data\n",
        "print(data)"
      ]
    },
    {
      "cell_type": "code",
      "source": [
        "# Retrieve order_id and total for each order\n",
        "for customer in data:\n",
        "    for order in customer.get('orders', []):\n",
        "        order_id = order.get('order_id')\n",
        "        total = order.get('total')\n",
        "        print(f\"Order ID: {order_id}, Total Amount: {total}\")"
      ],
      "metadata": {
        "colab": {
          "base_uri": "https://localhost:8080/"
        },
        "id": "rtwc48kIz8oI",
        "outputId": "377ac59c-8aa0-43ac-d041-91374795fb18"
      },
      "execution_count": null,
      "outputs": [
        {
          "output_type": "stream",
          "name": "stdout",
          "text": [
            "Order ID: 5001, Total Amount: 120.5\n",
            "Order ID: 5002, Total Amount: 250.0\n",
            "Order ID: 5003, Total Amount: 75.0\n"
          ]
        }
      ]
    },
    {
      "cell_type": "code",
      "source": [
        "import pandas as pd\n",
        "\n",
        "# Flatten data\n",
        "records = []\n",
        "for customer in data:\n",
        "    customer_id = customer['customer_id']\n",
        "    for order in customer.get('orders', []):\n",
        "        order_id = order['order_id']\n",
        "        total = order['total']\n",
        "        for item in order.get('items', []):\n",
        "            records.append({\n",
        "                'customer_id': customer_id,\n",
        "                'order_id': order_id,\n",
        "                'product': item['product'],\n",
        "                'quantity': item['quantity'],\n",
        "                'total': total\n",
        "            })\n",
        "\n",
        "# Create DataFrame\n",
        "df = pd.DataFrame(records)\n",
        "\n",
        "# Show DataFrame\n",
        "print(df)"
      ],
      "metadata": {
        "colab": {
          "base_uri": "https://localhost:8080/"
        },
        "id": "iJT7UnSEz8xA",
        "outputId": "a192c257-f2e8-4162-8e60-9d0aca55d603"
      },
      "execution_count": null,
      "outputs": [
        {
          "output_type": "stream",
          "name": "stdout",
          "text": [
            "   customer_id  order_id     product  quantity  total\n",
            "0          101      5001      Laptop         1  120.5\n",
            "1          101      5001       Mouse         1  120.5\n",
            "2          102      5002  Smartphone         1  250.0\n",
            "3          102      5002     Charger         2  250.0\n",
            "4          102      5003  Headphones         1   75.0\n"
          ]
        }
      ]
    },
    {
      "cell_type": "code",
      "source": [
        "df.to_json('processed_orders.json', orient='records', indent=4)"
      ],
      "metadata": {
        "id": "HOABa9Tmz80D"
      },
      "execution_count": null,
      "outputs": []
    }
  ]
}