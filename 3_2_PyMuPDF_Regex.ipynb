{
  "nbformat": 4,
  "nbformat_minor": 0,
  "metadata": {
    "colab": {
      "provenance": [],
      "authorship_tag": "ABX9TyMgQzF8j2ha9D91pwoor1s2",
      "include_colab_link": true
    },
    "kernelspec": {
      "name": "python3",
      "display_name": "Python 3"
    },
    "language_info": {
      "name": "python"
    }
  },
  "cells": [
    {
      "cell_type": "markdown",
      "metadata": {
        "id": "view-in-github",
        "colab_type": "text"
      },
      "source": [
        "<a href=\"https://colab.research.google.com/github/sarahlorenzen/Outamation-Extern/blob/main/3_2_PyMuPDF_Regex.ipynb\" target=\"_parent\"><img src=\"https://colab.research.google.com/assets/colab-badge.svg\" alt=\"Open In Colab\"/></a>"
      ]
    },
    {
      "cell_type": "code",
      "execution_count": 1,
      "metadata": {
        "colab": {
          "base_uri": "https://localhost:8080/"
        },
        "id": "Nh7XHgOu8xsp",
        "outputId": "191de354-689e-4440-a7d0-b950cad0d1ea"
      },
      "outputs": [
        {
          "output_type": "stream",
          "name": "stdout",
          "text": [
            "Collecting pymupdf\n",
            "  Downloading pymupdf-1.26.3-cp39-abi3-manylinux_2_28_x86_64.whl.metadata (3.4 kB)\n",
            "Downloading pymupdf-1.26.3-cp39-abi3-manylinux_2_28_x86_64.whl (24.1 MB)\n",
            "\u001b[2K   \u001b[90m━━━━━━━━━━━━━━━━━━━━━━━━━━━━━━━━━━━━━━━━\u001b[0m \u001b[32m24.1/24.1 MB\u001b[0m \u001b[31m68.3 MB/s\u001b[0m eta \u001b[36m0:00:00\u001b[0m\n",
            "\u001b[?25hInstalling collected packages: pymupdf\n",
            "Successfully installed pymupdf-1.26.3\n"
          ]
        }
      ],
      "source": [
        "# Install PyMuPDF (if not already installed)\n",
        "!pip install pymupdf\n"
      ]
    },
    {
      "cell_type": "code",
      "source": [
        "# Import Python's built-in regular expression (Regex) module\n",
        "\n",
        "import re"
      ],
      "metadata": {
        "id": "v-T--tll9WIp"
      },
      "execution_count": 2,
      "outputs": []
    },
    {
      "cell_type": "markdown",
      "source": [
        "# Step 1: Identify Key Information from the Loan Worksheet"
      ],
      "metadata": {
        "id": "IaIcXo_e-0we"
      }
    },
    {
      "cell_type": "markdown",
      "source": [
        "Step 1: Identify Key Information from the Loan Worksheet\n",
        "\n",
        "1.   Applicant Name\n",
        "2.   Loan Program\n",
        "3.   Loan Amount\n",
        "4.   Interest Rate\n",
        "5.   Loan Term\n",
        "6.   Total Monthly Payment\n",
        "\n",
        "\n",
        "\n",
        "\n",
        "\n"
      ],
      "metadata": {
        "id": "pRDPCTcZ9kkI"
      }
    },
    {
      "cell_type": "markdown",
      "source": [
        "# Step 2: Use PyMuPDF to Extract the Data"
      ],
      "metadata": {
        "id": "mAouOlVU-vsZ"
      }
    },
    {
      "cell_type": "code",
      "source": [
        "# Upload the PDF\n",
        "from google.colab import files\n",
        "uploaded = files.upload()\n"
      ],
      "metadata": {
        "colab": {
          "base_uri": "https://localhost:8080/",
          "height": 73
        },
        "id": "ze4cVP8O9fO6",
        "outputId": "46b759f0-40b2-437a-a651-a13888fd6a9a"
      },
      "execution_count": 3,
      "outputs": [
        {
          "output_type": "display_data",
          "data": {
            "text/plain": [
              "<IPython.core.display.HTML object>"
            ],
            "text/html": [
              "\n",
              "     <input type=\"file\" id=\"files-a36b7f8d-a2ac-48dc-8bd6-367c1667f7d8\" name=\"files[]\" multiple disabled\n",
              "        style=\"border:none\" />\n",
              "     <output id=\"result-a36b7f8d-a2ac-48dc-8bd6-367c1667f7d8\">\n",
              "      Upload widget is only available when the cell has been executed in the\n",
              "      current browser session. Please rerun this cell to enable.\n",
              "      </output>\n",
              "      <script>// Copyright 2017 Google LLC\n",
              "//\n",
              "// Licensed under the Apache License, Version 2.0 (the \"License\");\n",
              "// you may not use this file except in compliance with the License.\n",
              "// You may obtain a copy of the License at\n",
              "//\n",
              "//      http://www.apache.org/licenses/LICENSE-2.0\n",
              "//\n",
              "// Unless required by applicable law or agreed to in writing, software\n",
              "// distributed under the License is distributed on an \"AS IS\" BASIS,\n",
              "// WITHOUT WARRANTIES OR CONDITIONS OF ANY KIND, either express or implied.\n",
              "// See the License for the specific language governing permissions and\n",
              "// limitations under the License.\n",
              "\n",
              "/**\n",
              " * @fileoverview Helpers for google.colab Python module.\n",
              " */\n",
              "(function(scope) {\n",
              "function span(text, styleAttributes = {}) {\n",
              "  const element = document.createElement('span');\n",
              "  element.textContent = text;\n",
              "  for (const key of Object.keys(styleAttributes)) {\n",
              "    element.style[key] = styleAttributes[key];\n",
              "  }\n",
              "  return element;\n",
              "}\n",
              "\n",
              "// Max number of bytes which will be uploaded at a time.\n",
              "const MAX_PAYLOAD_SIZE = 100 * 1024;\n",
              "\n",
              "function _uploadFiles(inputId, outputId) {\n",
              "  const steps = uploadFilesStep(inputId, outputId);\n",
              "  const outputElement = document.getElementById(outputId);\n",
              "  // Cache steps on the outputElement to make it available for the next call\n",
              "  // to uploadFilesContinue from Python.\n",
              "  outputElement.steps = steps;\n",
              "\n",
              "  return _uploadFilesContinue(outputId);\n",
              "}\n",
              "\n",
              "// This is roughly an async generator (not supported in the browser yet),\n",
              "// where there are multiple asynchronous steps and the Python side is going\n",
              "// to poll for completion of each step.\n",
              "// This uses a Promise to block the python side on completion of each step,\n",
              "// then passes the result of the previous step as the input to the next step.\n",
              "function _uploadFilesContinue(outputId) {\n",
              "  const outputElement = document.getElementById(outputId);\n",
              "  const steps = outputElement.steps;\n",
              "\n",
              "  const next = steps.next(outputElement.lastPromiseValue);\n",
              "  return Promise.resolve(next.value.promise).then((value) => {\n",
              "    // Cache the last promise value to make it available to the next\n",
              "    // step of the generator.\n",
              "    outputElement.lastPromiseValue = value;\n",
              "    return next.value.response;\n",
              "  });\n",
              "}\n",
              "\n",
              "/**\n",
              " * Generator function which is called between each async step of the upload\n",
              " * process.\n",
              " * @param {string} inputId Element ID of the input file picker element.\n",
              " * @param {string} outputId Element ID of the output display.\n",
              " * @return {!Iterable<!Object>} Iterable of next steps.\n",
              " */\n",
              "function* uploadFilesStep(inputId, outputId) {\n",
              "  const inputElement = document.getElementById(inputId);\n",
              "  inputElement.disabled = false;\n",
              "\n",
              "  const outputElement = document.getElementById(outputId);\n",
              "  outputElement.innerHTML = '';\n",
              "\n",
              "  const pickedPromise = new Promise((resolve) => {\n",
              "    inputElement.addEventListener('change', (e) => {\n",
              "      resolve(e.target.files);\n",
              "    });\n",
              "  });\n",
              "\n",
              "  const cancel = document.createElement('button');\n",
              "  inputElement.parentElement.appendChild(cancel);\n",
              "  cancel.textContent = 'Cancel upload';\n",
              "  const cancelPromise = new Promise((resolve) => {\n",
              "    cancel.onclick = () => {\n",
              "      resolve(null);\n",
              "    };\n",
              "  });\n",
              "\n",
              "  // Wait for the user to pick the files.\n",
              "  const files = yield {\n",
              "    promise: Promise.race([pickedPromise, cancelPromise]),\n",
              "    response: {\n",
              "      action: 'starting',\n",
              "    }\n",
              "  };\n",
              "\n",
              "  cancel.remove();\n",
              "\n",
              "  // Disable the input element since further picks are not allowed.\n",
              "  inputElement.disabled = true;\n",
              "\n",
              "  if (!files) {\n",
              "    return {\n",
              "      response: {\n",
              "        action: 'complete',\n",
              "      }\n",
              "    };\n",
              "  }\n",
              "\n",
              "  for (const file of files) {\n",
              "    const li = document.createElement('li');\n",
              "    li.append(span(file.name, {fontWeight: 'bold'}));\n",
              "    li.append(span(\n",
              "        `(${file.type || 'n/a'}) - ${file.size} bytes, ` +\n",
              "        `last modified: ${\n",
              "            file.lastModifiedDate ? file.lastModifiedDate.toLocaleDateString() :\n",
              "                                    'n/a'} - `));\n",
              "    const percent = span('0% done');\n",
              "    li.appendChild(percent);\n",
              "\n",
              "    outputElement.appendChild(li);\n",
              "\n",
              "    const fileDataPromise = new Promise((resolve) => {\n",
              "      const reader = new FileReader();\n",
              "      reader.onload = (e) => {\n",
              "        resolve(e.target.result);\n",
              "      };\n",
              "      reader.readAsArrayBuffer(file);\n",
              "    });\n",
              "    // Wait for the data to be ready.\n",
              "    let fileData = yield {\n",
              "      promise: fileDataPromise,\n",
              "      response: {\n",
              "        action: 'continue',\n",
              "      }\n",
              "    };\n",
              "\n",
              "    // Use a chunked sending to avoid message size limits. See b/62115660.\n",
              "    let position = 0;\n",
              "    do {\n",
              "      const length = Math.min(fileData.byteLength - position, MAX_PAYLOAD_SIZE);\n",
              "      const chunk = new Uint8Array(fileData, position, length);\n",
              "      position += length;\n",
              "\n",
              "      const base64 = btoa(String.fromCharCode.apply(null, chunk));\n",
              "      yield {\n",
              "        response: {\n",
              "          action: 'append',\n",
              "          file: file.name,\n",
              "          data: base64,\n",
              "        },\n",
              "      };\n",
              "\n",
              "      let percentDone = fileData.byteLength === 0 ?\n",
              "          100 :\n",
              "          Math.round((position / fileData.byteLength) * 100);\n",
              "      percent.textContent = `${percentDone}% done`;\n",
              "\n",
              "    } while (position < fileData.byteLength);\n",
              "  }\n",
              "\n",
              "  // All done.\n",
              "  yield {\n",
              "    response: {\n",
              "      action: 'complete',\n",
              "    }\n",
              "  };\n",
              "}\n",
              "\n",
              "scope.google = scope.google || {};\n",
              "scope.google.colab = scope.google.colab || {};\n",
              "scope.google.colab._files = {\n",
              "  _uploadFiles,\n",
              "  _uploadFilesContinue,\n",
              "};\n",
              "})(self);\n",
              "</script> "
            ]
          },
          "metadata": {}
        },
        {
          "output_type": "stream",
          "name": "stdout",
          "text": [
            "Saving LenderFeesWorksheetNew.pdf to LenderFeesWorksheetNew.pdf\n"
          ]
        }
      ]
    },
    {
      "cell_type": "code",
      "source": [
        "# Import PyMuPDF and extract data\n",
        "import fitz  # PyMuPDF"
      ],
      "metadata": {
        "id": "afAkM3FQ9l04"
      },
      "execution_count": 4,
      "outputs": []
    },
    {
      "cell_type": "markdown",
      "source": [
        "## Extract Text"
      ],
      "metadata": {
        "id": "wQCHYM4NEzls"
      }
    },
    {
      "cell_type": "code",
      "source": [
        "# Load the PDF\n",
        "doc = fitz.open(\"LenderFeesWorksheetNew.pdf\")\n",
        "\n",
        "# Print metadata\n",
        "print(\"PDF Metadata:\", doc.metadata)"
      ],
      "metadata": {
        "colab": {
          "base_uri": "https://localhost:8080/"
        },
        "id": "mWe3A7h8E8rG",
        "outputId": "590b1766-c56b-41d2-bca2-84e71c7fb3f2"
      },
      "execution_count": 8,
      "outputs": [
        {
          "output_type": "stream",
          "name": "stdout",
          "text": [
            "PDF Metadata: {'format': 'PDF 1.3', 'title': 'POINT Document', 'author': '', 'subject': '', 'keywords': '', 'creator': '', 'producer': 'Amyuni PDF Converter version 4.5.2.3', 'creationDate': \"D:20151001155359-07'00'\", 'modDate': '', 'trapped': '', 'encryption': None}\n"
          ]
        }
      ]
    },
    {
      "cell_type": "code",
      "source": [
        "# Extract text from the first page\n",
        "page = doc[0]\n",
        "print(page.get_text())"
      ],
      "metadata": {
        "colab": {
          "base_uri": "https://localhost:8080/"
        },
        "id": "xgq3EZLFE80Z",
        "outputId": "94aa2b21-063d-474d-c158-0194c5443136"
      },
      "execution_count": 9,
      "outputs": [
        {
          "output_type": "stream",
          "name": "stdout",
          "text": [
            "Your actual rate, payment, and cost could be higher. Get an official Loan Estimate before choosing a loan.\n",
            "Fee Details and Summary\n",
            "Applicants:\n",
            "Application No:\n",
            "Date Prepared:\n",
            "Loan Program:\n",
            "Prepared By:\n",
            "THIS IS NOT A GOOD FAITH ESTIMATE (GFE). This \"Fees Worksheet\" is provided for informational purposes ONLY, to assist\n",
            "you in determining an estimate of cash that may be required to close and an estimate of your proposed monthly mortgage \n",
            "payment. Actual charges may be more or less, and your transaction may not involve a fee for every item listed.\n",
            "Total Loan Amount:  \n",
            "Interest Rate:\n",
            "Term/Due In:\n",
            "Fee\n",
            "Paid To\n",
            "Paid By (Fee Split**)\n",
            "Amount\n",
            "PFC / F / POC\n",
            "TOTAL ESTIMATED FUNDS NEEDED TO CLOSE:\n",
            "TOTAL ESTIMATED MONTHLY PAYMENT:\n",
            "Total Estimated Funds\n",
            "Total Monthly Payment\n",
            "Purchase Price (+)\n",
            "Alterations (+)\n",
            "Land (+)\n",
            "Refi (incl. debts to be paid off) (+)\n",
            "Est. Prepaid Items/Reserves (+)\n",
            "Est. Closing Costs (+)\n",
            "Loan Amount (-)\n",
            "Principal & Interest\n",
            "Other Financing (P & I)\n",
            "Hazard Insurance\n",
            "Real Estate Taxes\n",
            "Mortgage Insurance\n",
            "Homeowner Assn. Dues\n",
            "Other\n",
            "* PFC\n",
            "F\n",
            "POC\n",
            "= Prepaid Finance Charge\n",
            "= FHA Allowable Closing Cost\n",
            "= Paid Outside of Closing\n",
            "** B\n",
            "S\n",
            "Br\n",
            "L\n",
            "TP\n",
            "C\n",
            "= Borrower\n",
            "= Seller\n",
            "= Broker\n",
            "= Lender\n",
            "= Third Party\n",
            "= Correspondent\n",
            "Calyx Form - feews.frm (09/2015)\n",
            "FEES WORKSHEET\n",
            "John Q. Smith / Mary A. Smith\n",
            "samplesmith\n",
            "10/05/2015\n",
            "30 YEAR FIXED -Purchase\n",
            "XYZ Lender\n",
            "$ 380,000\n",
            "4.250 %\n",
            "360 / 360 mths\n",
            "475,000.00\n",
            "1,121.53\n",
            "4,520.00\n",
            "380,000.00\n",
            "Cash Deposit\n",
            "5,000.00\n",
            "needed to close\n",
            "95,641.53\n",
            "1,869.37\n",
            "39.58\n",
            "400.00\n",
            "2,308.95\n",
            "ORIGINATION CHARGES\n",
            "Underwriting Fee\n",
            "XYZ Lender\n",
            "Borrower\n",
            "$\n",
            "550.00\n",
            "Wire Transfer Fee\n",
            "XYZ Lender\n",
            "Borrower\n",
            "$\n",
            "75.00\n",
            "Administration Fee\n",
            "XYZ Lender\n",
            "Borrower\n",
            "$\n",
            "445.00\n",
            "OTHER CHARGES\n",
            "Appraisal Fee\n",
            "XYZ Lender\n",
            "Borrower\n",
            "$\n",
            "525.00\n",
            "Credit Report Fee\n",
            "XYZ Lender\n",
            "Borrower\n",
            "$\n",
            "25.00\n",
            "Tax Service Fee\n",
            "XYZ Lender\n",
            "Borrower\n",
            "$\n",
            "80.00\n",
            "Flood Certification Fee\n",
            "XYZ Lender\n",
            "Borrower\n",
            "$\n",
            "20.00\n",
            "Closing/Escrow Fee\n",
            "Settlement Agent\n",
            "Borrower\n",
            "$\n",
            "860.00\n",
            "Document Preparation Fee\n",
            "Settlement Agent\n",
            "Borrower\n",
            "$\n",
            "75.00\n",
            "Notary Fee\n",
            "NOTARY\n",
            "Borrower\n",
            "$\n",
            "150.00\n",
            "Lender's Title Insurance\n",
            "Borrower\n",
            "$\n",
            "650.00\n",
            "Title - Courier Fee\n",
            "Settlement Agent\n",
            "Borrower\n",
            "$\n",
            "50.00\n",
            "Electronic Document Delivery FeeSettlement Agent\n",
            "Borrower\n",
            "$\n",
            "50.00\n",
            "Pest Inspection Fee\n",
            "PEST CONTROL\n",
            "Borrower\n",
            "$\n",
            "50.00\n",
            "Home Inspection\n",
            "HI COMPANY\n",
            "Borrower\n",
            "$\n",
            "450.00\n",
            "Mortgage Recording Charge\n",
            "Borrower\n",
            "$\n",
            "150.00\n",
            "Borrower\n",
            "$\n",
            "0.00\n",
            "Daily Interest Charges\n",
            "XYZ Lender\n",
            "Borrower\n",
            "$ 44.8611 x 25 day(s)\n",
            "$\n",
            "1,121.53\n",
            "Hazard Insurance Premium\n",
            "Borrower\n",
            "$ 39.58 x 12 mth(s)\n",
            "$\n",
            "475.00\n",
            "\n"
          ]
        }
      ]
    },
    {
      "cell_type": "code",
      "source": [
        "# Extract structured text as blocks\n",
        "blocks = page.get_text(\"blocks\", sort=True)\n",
        "\n",
        "# Print each block\n",
        "for block in blocks:\n",
        "    print(f\"Block: {block}\", \"\\n\")"
      ],
      "metadata": {
        "colab": {
          "base_uri": "https://localhost:8080/"
        },
        "id": "lbh0XAfOE1-P",
        "outputId": "94273579-2204-4db8-e9d6-98adbbea3d16"
      },
      "execution_count": 10,
      "outputs": [
        {
          "output_type": "stream",
          "name": "stdout",
          "text": [
            "Block: (36.0, 26.097490310668945, 587.3409423828125, 38.3197021484375, 'Your actual rate, payment, and cost could be higher. Get an official Loan Estimate before choosing a loan.\\n', 0, 0) \n",
            "\n",
            "Block: (237.60000610351562, 42.08164596557617, 368.0303649902344, 57.68054962158203, 'FEES WORKSHEET\\n', 12, 0) \n",
            "\n",
            "Block: (230.39999389648438, 58.18072509765625, 376.87939453125, 71.53446197509766, 'Fee Details and Summary\\n', 1, 0) \n",
            "\n",
            "Block: (39.599998474121094, 78.64180755615234, 463.07476806640625, 107.48875427246094, 'Applicants:\\nApplication No:\\nDate Prepared:\\nLoan Program:\\nPrepared By:\\n', 2, 0) \n",
            "\n",
            "Block: (100.80000305175781, 78.44451904296875, 571.6966552734375, 107.53496551513672, 'John Q. Smith / Mary A. Smith\\nsamplesmith\\n10/05/2015\\n30 YEAR FIXED -Purchase\\nXYZ Lender\\n', 13, 0) \n",
            "\n",
            "Block: (39.599998474121094, 119.17501068115234, 572.3463134765625, 147.94798278808594, 'THIS IS NOT A GOOD FAITH ESTIMATE (GFE). This \"Fees Worksheet\" is provided for informational purposes ONLY, to assist\\nyou in determining an estimate of cash that may be required to close and an estimate of your proposed monthly mortgage \\npayment. Actual charges may be more or less, and your transaction may not involve a fee for every item listed.\\n', 3, 0) \n",
            "\n",
            "Block: (39.599998474121094, 161.84454345703125, 460.9887390136719, 170.77496337890625, 'Total Loan Amount:  \\nInterest Rate:\\nTerm/Due In:\\n', 4, 0) \n",
            "\n",
            "Block: (116.63999938964844, 161.96453857421875, 526.578857421875, 170.89495849609375, '$ 380,000\\n4.250 %\\n360 / 360 mths\\n', 14, 0) \n",
            "\n",
            "Block: (39.599998474121094, 174.15185546875, 575.2676391601562, 182.1104736328125, 'Fee\\nPaid To\\nPaid By (Fee Split**)\\nAmount\\nPFC / F / POC\\n', 5, 0) \n",
            "\n",
            "Block: (39.599998474121094, 184.2845458984375, 525.6087036132812, 273.85491943359375, 'ORIGINATION CHARGES\\nUnderwriting Fee\\nXYZ Lender\\nBorrower\\n$\\n550.00\\nWire Transfer Fee\\nXYZ Lender\\nBorrower\\n$\\n75.00\\nAdministration Fee\\nXYZ Lender\\nBorrower\\n$\\n445.00\\nOTHER CHARGES\\nAppraisal Fee\\nXYZ Lender\\nBorrower\\n$\\n525.00\\nCredit Report Fee\\nXYZ Lender\\nBorrower\\n$\\n25.00\\nTax Service Fee\\nXYZ Lender\\nBorrower\\n$\\n80.00\\nFlood Certification Fee\\nXYZ Lender\\nBorrower\\n$\\n20.00\\n', 22, 0) \n",
            "\n",
            "Block: (39.599998474121094, 285.08453369140625, 525.6087036132812, 344.4149169921875, \"Closing/Escrow Fee\\nSettlement Agent\\nBorrower\\n$\\n860.00\\nDocument Preparation Fee\\nSettlement Agent\\nBorrower\\n$\\n75.00\\nNotary Fee\\nNOTARY\\nBorrower\\n$\\n150.00\\nLender's Title Insurance\\nBorrower\\n$\\n650.00\\nTitle - Courier Fee\\nSettlement Agent\\nBorrower\\n$\\n50.00\\nElectronic Document Delivery FeeSettlement Agent\\nBorrower\\n$\\n50.00\\n\", 23, 0) \n",
            "\n",
            "Block: (39.599998474121094, 355.5245361328125, 525.6087036132812, 374.53497314453125, 'Pest Inspection Fee\\nPEST CONTROL\\nBorrower\\n$\\n50.00\\nHome Inspection\\nHI COMPANY\\nBorrower\\n$\\n450.00\\n', 24, 0) \n",
            "\n",
            "Block: (39.599998474121094, 385.7645263671875, 525.6087036132812, 394.6949462890625, 'Mortgage Recording Charge\\nBorrower\\n$\\n150.00\\n', 25, 0) \n",
            "\n",
            "Block: (39.599998474121094, 405.92449951171875, 525.607421875, 424.9349365234375, 'Borrower\\n$\\n0.00\\nDaily Interest Charges\\nXYZ Lender\\nBorrower\\n$ 44.8611 x 25 day(s)\\n$\\n1,121.53\\n', 26, 0) \n",
            "\n",
            "Block: (39.599998474121094, 436.16455078125, 525.6087036132812, 445.094970703125, 'Hazard Insurance Premium\\nBorrower\\n$ 39.58 x 12 mth(s)\\n$\\n475.00\\n', 27, 0) \n",
            "\n",
            "Block: (39.599998474121094, 799.8319091796875, 536.4507446289062, 807.79052734375, 'TOTAL ESTIMATED FUNDS NEEDED TO CLOSE:\\nTOTAL ESTIMATED MONTHLY PAYMENT:\\n', 6, 0) \n",
            "\n",
            "Block: (157.9199981689453, 809.9645385742188, 198.0080108642578, 818.8949584960938, '475,000.00\\n', 15, 0) \n",
            "\n",
            "Block: (523.2000122070312, 809.9645385742188, 554.4073486328125, 818.8949584960938, '1,869.37\\n', 19, 0) \n",
            "\n",
            "Block: (216.0, 809.9645385742188, 378.00799560546875, 828.9749755859375, '380,000.00\\nCash Deposit\\n5,000.00\\n', 17, 0) \n",
            "\n",
            "Block: (529.9199829101562, 829.404541015625, 554.4087524414062, 848.4149169921875, '39.58\\n400.00\\n', 20, 0) \n",
            "\n",
            "Block: (39.599998474121094, 810.0318603515625, 144.65753173828125, 868.2705078125, 'Purchase Price (+)\\nAlterations (+)\\nLand (+)\\nRefi (incl. debts to be paid off) (+)\\nEst. Prepaid Items/Reserves (+)\\nEst. Closing Costs (+)\\n', 8, 0) \n",
            "\n",
            "Block: (166.8000030517578, 850.2845458984375, 198.00755310058594, 870.0149536132812, '1,121.53\\n4,520.00\\n', 16, 0) \n",
            "\n",
            "Block: (216.0, 810.0318603515625, 472.60968017578125, 878.4705200195312, 'Loan Amount (-)\\nPrincipal & Interest\\nOther Financing (P & I)\\nHazard Insurance\\nReal Estate Taxes\\nMortgage Insurance\\nHomeowner Assn. Dues\\nOther\\n', 9, 0) \n",
            "\n",
            "Block: (39.599998474121094, 930.9918823242188, 472.9884338378906, 938.9505004882812, 'Total Estimated Funds\\nTotal Monthly Payment\\n', 7, 0) \n",
            "\n",
            "Block: (117.36000061035156, 930.2045288085938, 378.0096740722656, 939.1349487304688, 'needed to close\\n95,641.53\\n', 18, 0) \n",
            "\n",
            "Block: (523.2000122070312, 930.2045288085938, 554.4073486328125, 939.1349487304688, '2,308.95\\n', 21, 0) \n",
            "\n",
            "Block: (39.599998474121094, 945.9918823242188, 397.3214111328125, 961.1201782226562, '* PFC\\nF\\nPOC\\n= Prepaid Finance Charge\\n= FHA Allowable Closing Cost\\n= Paid Outside of Closing\\n** B\\nS\\nBr\\nL\\nTP\\nC\\n= Borrower\\n= Seller\\n= Broker\\n= Lender\\n= Third Party\\n= Correspondent\\n', 10, 0) \n",
            "\n",
            "Block: (39.599998474121094, 964.3176879882812, 139.6134033203125, 971.8742065429688, 'Calyx Form - feews.frm (09/2015)\\n', 11, 0) \n",
            "\n"
          ]
        }
      ]
    },
    {
      "cell_type": "markdown",
      "source": [
        "## Extract Table Data"
      ],
      "metadata": {
        "id": "YvvRkapjEtpM"
      }
    },
    {
      "cell_type": "code",
      "source": [
        "def extract_tables_with_bbox(pdf_path):\n",
        "    doc = fitz.open(pdf_path)\n",
        "    results = []\n",
        "\n",
        "    for page_num in range(len(doc)):\n",
        "        page = doc[page_num]\n",
        "        tables = page.find_tables()\n",
        "\n",
        "        for i, table in enumerate(tables.tables):\n",
        "            table_bbox = table.bbox\n",
        "            table_data = []\n",
        "            cell_bboxes = []\n",
        "\n",
        "            for row_num in range(table.row_count):\n",
        "                row_data = []\n",
        "                row_bboxes = []\n",
        "\n",
        "                for col_num in range(table.col_count):\n",
        "                    cell_idx = row_num * table.col_count + col_num\n",
        "\n",
        "                    if cell_idx < len(table.cells) and table.cells[cell_idx] is not None:\n",
        "                        cell_bbox = table.cells[cell_idx]\n",
        "                        cell_text = page.get_text(\"text\", clip=cell_bbox).strip()\n",
        "                        row_data.append(cell_text)\n",
        "                        row_bboxes.append(cell_bbox)\n",
        "                    else:\n",
        "                        row_data.append(\"\")\n",
        "                        row_bboxes.append(None)\n",
        "\n",
        "                table_data.append(row_data)\n",
        "                cell_bboxes.append(row_bboxes)\n",
        "\n",
        "            results.append({\n",
        "                'page': page_num,\n",
        "                'table_index': i,\n",
        "                'bbox': table_bbox,\n",
        "                'data': table_data,\n",
        "                'cell_bboxes': cell_bboxes\n",
        "            })\n",
        "\n",
        "    doc.close()\n",
        "    return results\n"
      ],
      "metadata": {
        "id": "TNhOAEgd1szg"
      },
      "execution_count": 11,
      "outputs": []
    },
    {
      "cell_type": "code",
      "source": [
        "# Call the function on the uploaded file\n",
        "pdf_filename = list(uploaded.keys())[0]\n",
        "results = extract_tables_with_bbox(pdf_filename)\n"
      ],
      "metadata": {
        "id": "Cm7lT_ZO1uFD"
      },
      "execution_count": 12,
      "outputs": []
    },
    {
      "cell_type": "code",
      "source": [
        "# Print extracted data\n",
        "for table in results:\n",
        "    print(f\"\\n📄 Page {table['page']}, Table {table['table_index']}\")\n",
        "    for row in table['data']:\n",
        "        print(row)"
      ],
      "metadata": {
        "colab": {
          "base_uri": "https://localhost:8080/"
        },
        "id": "I9M0uz8T1vL5",
        "outputId": "0ebeec62-e45e-4f39-94e9-dfb70adda739"
      },
      "execution_count": 13,
      "outputs": [
        {
          "output_type": "stream",
          "name": "stdout",
          "text": [
            "\n",
            "📄 Page 0, Table 0\n",
            "['Underwriting Fee\\nXYZ Lender\\nBorrower\\n$\\n550.00', 'Wire Transfer Fee\\nXYZ Lender\\nBorrower\\n$\\n75.00']\n",
            "['Administration Fee\\nXYZ Lender\\nBorrower\\n$\\n445.00', '']\n",
            "['', '']\n",
            "\n",
            "📄 Page 0, Table 1\n",
            "['Appraisal Fee\\nXYZ Lender\\nBorrower\\n$\\n525.00', 'Credit Report Fee\\nXYZ Lender\\nBorrower\\n$\\n25.00']\n",
            "['Tax Service Fee\\nXYZ Lender\\nBorrower\\n$\\n80.00', 'Flood Certification Fee\\nXYZ Lender\\nBorrower\\n$\\n20.00']\n",
            "['', '']\n",
            "['', '']\n",
            "\n",
            "📄 Page 0, Table 2\n",
            "['Closing/Escrow Fee\\nSettlement Agent\\nBorrower\\n$\\n860.00', 'Document Preparation Fee\\nSettlement Agent\\nBorrower\\n$\\n75.00']\n",
            "['Notary Fee\\nNOTARY\\nBorrower\\n$\\n150.00', \"Lender's Title Insurance\\nBorrower\\n$\\n650.00\"]\n",
            "['Title - Courier Fee\\nSettlement Agent\\nBorrower\\n$\\n50.00', 'Electronic Document Delivery FeeSettlement Agent\\nBorrower\\n$\\n50.00']\n",
            "['', '']\n",
            "['', '']\n",
            "['', '']\n",
            "\n",
            "📄 Page 0, Table 3\n",
            "['Daily Interest Charges\\nXYZ Lender\\nBorrower\\n$ 44.8611 x 25 day(s)\\n$\\n1,121.53', '']\n"
          ]
        }
      ]
    }
  ]
}