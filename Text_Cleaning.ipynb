{
  "nbformat": 4,
  "nbformat_minor": 0,
  "metadata": {
    "colab": {
      "provenance": [],
      "authorship_tag": "ABX9TyNl4x64n4i88AQ+YTealy97",
      "include_colab_link": true
    },
    "kernelspec": {
      "name": "python3",
      "display_name": "Python 3"
    },
    "language_info": {
      "name": "python"
    }
  },
  "cells": [
    {
      "cell_type": "markdown",
      "metadata": {
        "id": "view-in-github",
        "colab_type": "text"
      },
      "source": [
        "<a href=\"https://colab.research.google.com/github/sarahlorenzen/Outamation-Extern/blob/main/Text_Cleaning.ipynb\" target=\"_parent\"><img src=\"https://colab.research.google.com/assets/colab-badge.svg\" alt=\"Open In Colab\"/></a>"
      ]
    },
    {
      "cell_type": "code",
      "source": [
        "# Import library\n",
        "import pandas\n",
        "\n",
        "#Upload the TXT file and read it\n",
        "from google.colab import files\n",
        "uploaded = files.upload()"
      ],
      "metadata": {
        "colab": {
          "base_uri": "https://localhost:8080/",
          "height": 73
        },
        "id": "lsN-ZH328ga2",
        "outputId": "76e181fd-85a0-4d65-993e-ab9f7a4bf902"
      },
      "execution_count": null,
      "outputs": [
        {
          "output_type": "display_data",
          "data": {
            "text/plain": [
              "<IPython.core.display.HTML object>"
            ],
            "text/html": [
              "\n",
              "     <input type=\"file\" id=\"files-1434719a-4ba5-47c3-a395-ba5cbfba5ddd\" name=\"files[]\" multiple disabled\n",
              "        style=\"border:none\" />\n",
              "     <output id=\"result-1434719a-4ba5-47c3-a395-ba5cbfba5ddd\">\n",
              "      Upload widget is only available when the cell has been executed in the\n",
              "      current browser session. Please rerun this cell to enable.\n",
              "      </output>\n",
              "      <script>// Copyright 2017 Google LLC\n",
              "//\n",
              "// Licensed under the Apache License, Version 2.0 (the \"License\");\n",
              "// you may not use this file except in compliance with the License.\n",
              "// You may obtain a copy of the License at\n",
              "//\n",
              "//      http://www.apache.org/licenses/LICENSE-2.0\n",
              "//\n",
              "// Unless required by applicable law or agreed to in writing, software\n",
              "// distributed under the License is distributed on an \"AS IS\" BASIS,\n",
              "// WITHOUT WARRANTIES OR CONDITIONS OF ANY KIND, either express or implied.\n",
              "// See the License for the specific language governing permissions and\n",
              "// limitations under the License.\n",
              "\n",
              "/**\n",
              " * @fileoverview Helpers for google.colab Python module.\n",
              " */\n",
              "(function(scope) {\n",
              "function span(text, styleAttributes = {}) {\n",
              "  const element = document.createElement('span');\n",
              "  element.textContent = text;\n",
              "  for (const key of Object.keys(styleAttributes)) {\n",
              "    element.style[key] = styleAttributes[key];\n",
              "  }\n",
              "  return element;\n",
              "}\n",
              "\n",
              "// Max number of bytes which will be uploaded at a time.\n",
              "const MAX_PAYLOAD_SIZE = 100 * 1024;\n",
              "\n",
              "function _uploadFiles(inputId, outputId) {\n",
              "  const steps = uploadFilesStep(inputId, outputId);\n",
              "  const outputElement = document.getElementById(outputId);\n",
              "  // Cache steps on the outputElement to make it available for the next call\n",
              "  // to uploadFilesContinue from Python.\n",
              "  outputElement.steps = steps;\n",
              "\n",
              "  return _uploadFilesContinue(outputId);\n",
              "}\n",
              "\n",
              "// This is roughly an async generator (not supported in the browser yet),\n",
              "// where there are multiple asynchronous steps and the Python side is going\n",
              "// to poll for completion of each step.\n",
              "// This uses a Promise to block the python side on completion of each step,\n",
              "// then passes the result of the previous step as the input to the next step.\n",
              "function _uploadFilesContinue(outputId) {\n",
              "  const outputElement = document.getElementById(outputId);\n",
              "  const steps = outputElement.steps;\n",
              "\n",
              "  const next = steps.next(outputElement.lastPromiseValue);\n",
              "  return Promise.resolve(next.value.promise).then((value) => {\n",
              "    // Cache the last promise value to make it available to the next\n",
              "    // step of the generator.\n",
              "    outputElement.lastPromiseValue = value;\n",
              "    return next.value.response;\n",
              "  });\n",
              "}\n",
              "\n",
              "/**\n",
              " * Generator function which is called between each async step of the upload\n",
              " * process.\n",
              " * @param {string} inputId Element ID of the input file picker element.\n",
              " * @param {string} outputId Element ID of the output display.\n",
              " * @return {!Iterable<!Object>} Iterable of next steps.\n",
              " */\n",
              "function* uploadFilesStep(inputId, outputId) {\n",
              "  const inputElement = document.getElementById(inputId);\n",
              "  inputElement.disabled = false;\n",
              "\n",
              "  const outputElement = document.getElementById(outputId);\n",
              "  outputElement.innerHTML = '';\n",
              "\n",
              "  const pickedPromise = new Promise((resolve) => {\n",
              "    inputElement.addEventListener('change', (e) => {\n",
              "      resolve(e.target.files);\n",
              "    });\n",
              "  });\n",
              "\n",
              "  const cancel = document.createElement('button');\n",
              "  inputElement.parentElement.appendChild(cancel);\n",
              "  cancel.textContent = 'Cancel upload';\n",
              "  const cancelPromise = new Promise((resolve) => {\n",
              "    cancel.onclick = () => {\n",
              "      resolve(null);\n",
              "    };\n",
              "  });\n",
              "\n",
              "  // Wait for the user to pick the files.\n",
              "  const files = yield {\n",
              "    promise: Promise.race([pickedPromise, cancelPromise]),\n",
              "    response: {\n",
              "      action: 'starting',\n",
              "    }\n",
              "  };\n",
              "\n",
              "  cancel.remove();\n",
              "\n",
              "  // Disable the input element since further picks are not allowed.\n",
              "  inputElement.disabled = true;\n",
              "\n",
              "  if (!files) {\n",
              "    return {\n",
              "      response: {\n",
              "        action: 'complete',\n",
              "      }\n",
              "    };\n",
              "  }\n",
              "\n",
              "  for (const file of files) {\n",
              "    const li = document.createElement('li');\n",
              "    li.append(span(file.name, {fontWeight: 'bold'}));\n",
              "    li.append(span(\n",
              "        `(${file.type || 'n/a'}) - ${file.size} bytes, ` +\n",
              "        `last modified: ${\n",
              "            file.lastModifiedDate ? file.lastModifiedDate.toLocaleDateString() :\n",
              "                                    'n/a'} - `));\n",
              "    const percent = span('0% done');\n",
              "    li.appendChild(percent);\n",
              "\n",
              "    outputElement.appendChild(li);\n",
              "\n",
              "    const fileDataPromise = new Promise((resolve) => {\n",
              "      const reader = new FileReader();\n",
              "      reader.onload = (e) => {\n",
              "        resolve(e.target.result);\n",
              "      };\n",
              "      reader.readAsArrayBuffer(file);\n",
              "    });\n",
              "    // Wait for the data to be ready.\n",
              "    let fileData = yield {\n",
              "      promise: fileDataPromise,\n",
              "      response: {\n",
              "        action: 'continue',\n",
              "      }\n",
              "    };\n",
              "\n",
              "    // Use a chunked sending to avoid message size limits. See b/62115660.\n",
              "    let position = 0;\n",
              "    do {\n",
              "      const length = Math.min(fileData.byteLength - position, MAX_PAYLOAD_SIZE);\n",
              "      const chunk = new Uint8Array(fileData, position, length);\n",
              "      position += length;\n",
              "\n",
              "      const base64 = btoa(String.fromCharCode.apply(null, chunk));\n",
              "      yield {\n",
              "        response: {\n",
              "          action: 'append',\n",
              "          file: file.name,\n",
              "          data: base64,\n",
              "        },\n",
              "      };\n",
              "\n",
              "      let percentDone = fileData.byteLength === 0 ?\n",
              "          100 :\n",
              "          Math.round((position / fileData.byteLength) * 100);\n",
              "      percent.textContent = `${percentDone}% done`;\n",
              "\n",
              "    } while (position < fileData.byteLength);\n",
              "  }\n",
              "\n",
              "  // All done.\n",
              "  yield {\n",
              "    response: {\n",
              "      action: 'complete',\n",
              "    }\n",
              "  };\n",
              "}\n",
              "\n",
              "scope.google = scope.google || {};\n",
              "scope.google.colab = scope.google.colab || {};\n",
              "scope.google.colab._files = {\n",
              "  _uploadFiles,\n",
              "  _uploadFilesContinue,\n",
              "};\n",
              "})(self);\n",
              "</script> "
            ]
          },
          "metadata": {}
        },
        {
          "output_type": "stream",
          "name": "stdout",
          "text": [
            "Saving text_sample.txt to text_sample.txt\n"
          ]
        }
      ]
    },
    {
      "cell_type": "code",
      "source": [
        "### READ .txt file ###\n",
        "\n",
        "# import library\n",
        "import io\n",
        "\n",
        "# Read 'text_sample.txt' from uploaded files\n",
        "with io.StringIO(uploaded['text_sample.txt'].decode('utf-8')) as file:\n",
        "    text = file.read()"
      ],
      "metadata": {
        "id": "kF7sDrih8gkl"
      },
      "execution_count": null,
      "outputs": []
    },
    {
      "cell_type": "code",
      "source": [
        "### READ .txt file & Remove spaces ###\n",
        "\n",
        "# import library\n",
        "import re\n",
        "\n",
        "# Remove multiple spaces within lines\n",
        "text_cleaned = re.sub(r'[ \\t]+', ' ', text)\n",
        "\n",
        "# Remove extra spaces before punctuation\n",
        "text_cleaned = re.sub(r'\\s+([.,!?;:])', r'\\1', text_cleaned)\n",
        "\n",
        "# Normalize multiple newlines to a single newline\n",
        "text_cleaned = re.sub(r'\\n\\s*\\n', '\\n', text_cleaned)\n",
        "\n",
        "# Optionally strip leading/trailing whitespace\n",
        "text_cleaned = text_cleaned.strip()\n",
        "\n",
        "print(text_cleaned)  # \"This is a test text with extra spaces.\""
      ],
      "metadata": {
        "colab": {
          "base_uri": "https://localhost:8080/"
        },
        "id": "W0rInPk08gn2",
        "outputId": "7034ae9f-565b-4b23-8134-c095ac6194cf"
      },
      "execution_count": null,
      "outputs": [
        {
          "output_type": "stream",
          "name": "stdout",
          "text": [
            "Thís ís à próblemátic téxt fíle!! It contains **extra spaces**,,,,, special characters!!!💥🔥🚀\r\n",
            "Some words are misspelleddd, and encoding issues liké thís cäusé problëms. \r\n",
            "Prices are inconsistent: $29.99, 29.99 USD, 29,99$.\r\n",
            "Emails & phone numbers may be embedded: contact@domain.com, (123)-456-7890.\r\n",
            "Repeated punctuations!!!!! should be removed, along with **random symbols** like @@,##.\r\n",
            "stopwords like \"the\", \"is\", and \"a\" appear often.\r\n",
            "HTML tags might be present: <div>This is inside a div</div>\r\n",
            "And sometimes, contractions won't expand: \"can't\", \"won't\", \"shouldn't\".\r\n",
            "Random numeric values: 123456, 98765, 2024.\n"
          ]
        }
      ]
    },
    {
      "cell_type": "code",
      "source": [
        "### Convert text to lowercase ###\n",
        "\n",
        "# Convert the text to lowercase\n",
        "text_lower = text_cleaned.lower()\n",
        "\n",
        "# Print to confirm\n",
        "print(text_lower)"
      ],
      "metadata": {
        "colab": {
          "base_uri": "https://localhost:8080/"
        },
        "id": "VPHtDZcI8gq0",
        "outputId": "3583e9f5-7b78-4538-c71b-558f830379ef"
      },
      "execution_count": null,
      "outputs": [
        {
          "output_type": "stream",
          "name": "stdout",
          "text": [
            "thís ís à próblemátic téxt fíle!! it contains **extra spaces**,,,,, special characters!!!💥🔥🚀\r\n",
            "some words are misspelleddd, and encoding issues liké thís cäusé problëms. \r\n",
            "prices are inconsistent: $29.99, 29.99 usd, 29,99$.\r\n",
            "emails & phone numbers may be embedded: contact@domain.com, (123)-456-7890.\r\n",
            "repeated punctuations!!!!! should be removed, along with **random symbols** like @@,##.\r\n",
            "stopwords like \"the\", \"is\", and \"a\" appear often.\r\n",
            "html tags might be present: <div>this is inside a div</div>\r\n",
            "and sometimes, contractions won't expand: \"can't\", \"won't\", \"shouldn't\".\r\n",
            "random numeric values: 123456, 98765, 2024.\n"
          ]
        }
      ]
    },
    {
      "cell_type": "code",
      "source": [
        "### Expanding Contractions ###\n",
        "\n",
        "# import library\n",
        "!pip install contractions\n",
        "import contractions\n",
        "\n",
        "# Fix contractions\n",
        "expanded_text = contractions.fix(text_lower)\n",
        "\n",
        "# Print to confirm\n",
        "print(expanded_text)"
      ],
      "metadata": {
        "id": "DCGdzzpnKho-",
        "colab": {
          "base_uri": "https://localhost:8080/"
        },
        "outputId": "b6572cc1-9bc5-43e8-b859-4281e517991a"
      },
      "execution_count": null,
      "outputs": [
        {
          "output_type": "stream",
          "name": "stdout",
          "text": [
            "Collecting contractions\n",
            "  Downloading contractions-0.1.73-py2.py3-none-any.whl.metadata (1.2 kB)\n",
            "Collecting textsearch>=0.0.21 (from contractions)\n",
            "  Downloading textsearch-0.0.24-py2.py3-none-any.whl.metadata (1.2 kB)\n",
            "Collecting anyascii (from textsearch>=0.0.21->contractions)\n",
            "  Downloading anyascii-0.3.3-py3-none-any.whl.metadata (1.6 kB)\n",
            "Collecting pyahocorasick (from textsearch>=0.0.21->contractions)\n",
            "  Downloading pyahocorasick-2.2.0-cp311-cp311-manylinux_2_17_x86_64.manylinux2014_x86_64.whl.metadata (13 kB)\n",
            "Downloading contractions-0.1.73-py2.py3-none-any.whl (8.7 kB)\n",
            "Downloading textsearch-0.0.24-py2.py3-none-any.whl (7.6 kB)\n",
            "Downloading anyascii-0.3.3-py3-none-any.whl (345 kB)\n",
            "\u001b[2K   \u001b[90m━━━━━━━━━━━━━━━━━━━━━━━━━━━━━━━━━━━━━━━━\u001b[0m \u001b[32m345.1/345.1 kB\u001b[0m \u001b[31m8.2 MB/s\u001b[0m eta \u001b[36m0:00:00\u001b[0m\n",
            "\u001b[?25hDownloading pyahocorasick-2.2.0-cp311-cp311-manylinux_2_17_x86_64.manylinux2014_x86_64.whl (113 kB)\n",
            "\u001b[2K   \u001b[90m━━━━━━━━━━━━━━━━━━━━━━━━━━━━━━━━━━━━━━━━\u001b[0m \u001b[32m113.9/113.9 kB\u001b[0m \u001b[31m7.1 MB/s\u001b[0m eta \u001b[36m0:00:00\u001b[0m\n",
            "\u001b[?25hInstalling collected packages: pyahocorasick, anyascii, textsearch, contractions\n",
            "Successfully installed anyascii-0.3.3 contractions-0.1.73 pyahocorasick-2.2.0 textsearch-0.0.24\n",
            "thís ís à próblemátic téxt fíle!! it contains **extra spaces**,,,,, special characters!!!💥🔥🚀\n",
            "some words are misspelleddd, and encoding issues liké thís cäusé problëms. \n",
            "prices are inconsistent: $29.99, 29.99 usd, 29,99$.\n",
            "emails & phone numbers may be embedded: contact@domain.com, (123)-456-7890.\n",
            "repeated punctuations!!!!! should be removed, along with **random symbols** like @@,##.\n",
            "stopwords like \"the\", \"is\", and \"a\" appear often.\n",
            "html tags might be present: <div>this is inside a div</div>\n",
            "and sometimes, contractions will not expand: \"cannot\", \"will not\", \"should not\".\n",
            "random numeric values: 123456, 98765, 2024.\n"
          ]
        }
      ]
    },
    {
      "cell_type": "code",
      "source": [
        "### Remove punctuation & special characters ###\n",
        "\n",
        "# import library\n",
        "import string\n",
        "\n",
        "# Remove punctuation\n",
        "clean_punc_text = expanded_text.translate(str.maketrans('', '', string.punctuation))\n",
        "\n",
        "# Print to confirm\n",
        "print(clean_punc_text)  # \"Wow This product is amazing\""
      ],
      "metadata": {
        "colab": {
          "base_uri": "https://localhost:8080/"
        },
        "id": "tP-Fx-uz8gtt",
        "outputId": "34ad3fa1-9154-491f-a442-43153cb511cb"
      },
      "execution_count": null,
      "outputs": [
        {
          "output_type": "stream",
          "name": "stdout",
          "text": [
            "thís ís à próblemátic téxt fíle it contains extra spaces special characters💥🔥🚀\r\n",
            "some words are misspelleddd and encoding issues liké thís cäusé problëms \r\n",
            "prices are inconsistent 2999 2999 usd 2999\r\n",
            "emails  phone numbers may be embedded contactdomaincom 1234567890\r\n",
            "repeated punctuations should be removed along with random symbols like \r\n",
            "stopwords like the is and a appear often\r\n",
            "html tags might be present divthis is inside a divdiv\r\n",
            "and sometimes contractions will not expand cannot will not should not\r\n",
            "random numeric values 123456 98765 2024\n"
          ]
        }
      ]
    },
    {
      "cell_type": "code",
      "source": [
        "### Normalize Text - Remove special characters e.g., í, à, ó ###\n",
        "\n",
        "# import library\n",
        "!pip install ftfy\n",
        "import unicodedata\n",
        "import ftfy\n",
        "\n",
        "text = clean_punc_text\n",
        "\n",
        "# Fix encoding issues with ftfy\n",
        "fixed_text = ftfy.fix_text(text)\n",
        "\n",
        "# Normalize Unicode & Remove accents\n",
        "normalized_text = unicodedata.normalize('NFKD', fixed_text).encode('ascii', 'ignore').decode()\n",
        "\n",
        "# Print to confirm\n",
        "print(normalized_text)"
      ],
      "metadata": {
        "colab": {
          "base_uri": "https://localhost:8080/"
        },
        "id": "eSAvRQi89VRZ",
        "outputId": "ef1b8e2e-3027-4e49-c28f-c53574d9df4a"
      },
      "execution_count": null,
      "outputs": [
        {
          "output_type": "stream",
          "name": "stdout",
          "text": [
            "Requirement already satisfied: ftfy in /usr/local/lib/python3.11/dist-packages (6.3.1)\n",
            "Requirement already satisfied: wcwidth in /usr/local/lib/python3.11/dist-packages (from ftfy) (0.2.13)\n",
            "this is a problematic text file it contains extra spaces special characters\n",
            "some words are misspelleddd and encoding issues like this cause problems \n",
            "prices are inconsistent 2999 2999 usd 2999\n",
            "emails  phone numbers may be embedded contactdomaincom 1234567890\n",
            "repeated punctuations should be removed along with random symbols like \n",
            "stopwords like the is and a appear often\n",
            "html tags might be present divthis is inside a divdiv\n",
            "and sometimes contractions will not expand cannot will not should not\n",
            "random numeric values 123456 98765 2024\n"
          ]
        }
      ]
    },
    {
      "cell_type": "code",
      "source": [
        "### Remove stop words ###\n",
        "\n",
        "# import library\n",
        "import nltk\n",
        "from nltk.corpus import stopwords\n",
        "\n",
        "# Download stopwords if not already downloaded\n",
        "nltk.download('stopwords')\n",
        "\n",
        "stop_words = set(stopwords.words('english'))\n",
        "\n",
        "def remove_stopwords(text):\n",
        "    words = text.split()\n",
        "    filtered_words = [word for word in words if word.lower() not in stop_words]\n",
        "    return \" \".join(filtered_words)\n",
        "\n",
        "cleaned_text = remove_stopwords(normalized_text)\n",
        "\n",
        "# Print to confirm\n",
        "print(cleaned_text)"
      ],
      "metadata": {
        "id": "2Mw4jSUoKhs7",
        "colab": {
          "base_uri": "https://localhost:8080/"
        },
        "outputId": "c3a3f154-c0f0-497a-8b2f-314405ddd6ae"
      },
      "execution_count": null,
      "outputs": [
        {
          "output_type": "stream",
          "name": "stdout",
          "text": [
            "problematic text file contains extra spaces special characters words misspelleddd encoding issues like cause problems prices inconsistent 2999 2999 usd 2999 emails phone numbers may embedded contactdomaincom 1234567890 repeated punctuations removed along random symbols like stopwords like appear often html tags might present divthis inside divdiv sometimes contractions expand cannot random numeric values 123456 98765 2024\n"
          ]
        },
        {
          "output_type": "stream",
          "name": "stderr",
          "text": [
            "[nltk_data] Downloading package stopwords to /root/nltk_data...\n",
            "[nltk_data]   Unzipping corpora/stopwords.zip.\n"
          ]
        }
      ]
    }
  ]
}